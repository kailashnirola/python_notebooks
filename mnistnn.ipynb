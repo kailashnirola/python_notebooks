{
  "nbformat": 4,
  "nbformat_minor": 0,
  "metadata": {
    "colab": {
      "provenance": [],
      "gpuType": "T4",
      "mount_file_id": "11osW7YbtelazjljYMSob4Zriqc8-4ks6",
      "authorship_tag": "ABX9TyPuu1kMpYUgrTcaphrLGoc2",
      "include_colab_link": true
    },
    "kernelspec": {
      "name": "python3",
      "display_name": "Python 3"
    },
    "language_info": {
      "name": "python"
    },
    "accelerator": "GPU"
  },
  "cells": [
    {
      "cell_type": "markdown",
      "metadata": {
        "id": "view-in-github",
        "colab_type": "text"
      },
      "source": [
        "<a href=\"https://colab.research.google.com/github/kailashnirola/python_notebooks/blob/main/mnistnn.ipynb\" target=\"_parent\"><img src=\"https://colab.research.google.com/assets/colab-badge.svg\" alt=\"Open In Colab\"/></a>"
      ]
    },
    {
      "cell_type": "markdown",
      "source": [
        "#Neural Network from scratch for MNIST Dataset"
      ],
      "metadata": {
        "id": "z6PxRF2Zfp8o"
      }
    },
    {
      "cell_type": "code",
      "execution_count": null,
      "metadata": {
        "id": "dvhvErkufobn"
      },
      "outputs": [],
      "source": [
        "import numpy as np\n",
        "from tensorflow.keras.datasets import mnist\n"
      ]
    },
    {
      "cell_type": "code",
      "source": [
        "(x_train,y_train),(x_test,y_test)= mnist.load_data()"
      ],
      "metadata": {
        "id": "6AXHkRaKgKrP",
        "colab": {
          "base_uri": "https://localhost:8080/"
        },
        "outputId": "f8dd1d55-10b5-4236-ab9a-04cd4231db74"
      },
      "execution_count": null,
      "outputs": [
        {
          "output_type": "stream",
          "name": "stdout",
          "text": [
            "Downloading data from https://storage.googleapis.com/tensorflow/tf-keras-datasets/mnist.npz\n",
            "\u001b[1m11490434/11490434\u001b[0m \u001b[32m━━━━━━━━━━━━━━━━━━━━\u001b[0m\u001b[37m\u001b[0m \u001b[1m1s\u001b[0m 0us/step\n"
          ]
        }
      ]
    },
    {
      "cell_type": "code",
      "source": [
        "def preprocess(x,y):\n",
        "  x=x.reshape(-1,28*28)/255.0\n",
        "  y= np.eye(10)[y.reshape(-1).astype(int)]\n",
        "  return x,y\n",
        "\n",
        "x_train,y_train=preprocess(x_train,y_train)\n",
        "x_test,y_test = preprocess(x_test,y_test)\n",
        "\n",
        "val_size=10000\n",
        "x_val,y_val=x_train[:val_size],y_train[:val_size]\n",
        "x_train,y_train=x_train[val_size:],y_train[val_size:]\n",
        "\n",
        "input_size=784\n",
        "hidden_size1=128\n",
        "hidden_size2=128\n",
        "output_size=10"
      ],
      "metadata": {
        "id": "LRc0wlNzglfh"
      },
      "execution_count": null,
      "outputs": []
    },
    {
      "cell_type": "code",
      "source": [
        "def initialize_parameters():\n",
        "  W1=np.random.randn(input_size,hidden_size1)*np.sqrt(2/input_size)\n",
        "  b1=np.random.randn(hidden_size1)\n",
        "  W2=np.random.randn(hidden_size1,hidden_size2)*np.sqrt(2/hidden_size1)\n",
        "  b2=np.random.randn(hidden_size2)\n",
        "  W3=np.random.randn(hidden_size2,output_size)*np.sqrt(2/hidden_size2)\n",
        "  b3=np.random.randn(output_size)\n",
        "  return W1,b1,W2,b2,W3,b3\n",
        "\n",
        "def relu(z):\n",
        "  return np.maximum(0,z)\n",
        "\n",
        "def sigmoid(z):\n",
        "  z=z-np.max(z,axis=1,keepdims=True)\n",
        "  exp_z=np.exp(z)\n",
        "  return exp_z/np.sum(exp_z,axis=1,keepdims=True)\n",
        "\n",
        "def forward(W1,b1,W2,b2,W3,b3,x):\n",
        "  Z1=x.dot(W1)+b1\n",
        "  A1=relu(Z1)\n",
        "  Z2=A1.dot(W2)+b2\n",
        "  A2=relu(Z2)\n",
        "  Z3=A2.dot(W3)+b3\n",
        "  A3=sigmoid(Z3)\n",
        "  return Z1,A1,Z2,A2,Z3,A3\n",
        "\n",
        "def compute_loss(Y_,Y):\n",
        "  m=Y.shape[0]\n",
        "  return -np.sum(Y*np.log(Y_ + 1e-8))/m\n",
        "\n",
        "def backward(X,Y,Z1,A1,Z2,A2,Z3,A3,W2,W3):\n",
        "  m=X.shape[0]\n",
        "\n",
        "  dZ3=(A3-Y)/m\n",
        "  dW3=np.dot(A2.T,dZ3)\n",
        "  db3=np.sum(dZ3,axis=0)\n",
        "\n",
        "  dA2=np.dot(dZ3,W3.T)\n",
        "  dZ2=dA2*(Z2>0)\n",
        "  dW2=np.dot(A1.T,dZ2)\n",
        "  db2=np.sum(dZ2,axis=0)\n",
        "\n",
        "  dA1=np.dot(dZ2,W2.T)\n",
        "  dZ1=dA1*(Z1>0)\n",
        "  dW1=np.dot(X.T,dZ1)\n",
        "  db1=np.sum(dZ1,axis=0)\n",
        "\n",
        "  return dW1,db1,dW2,db2,dW3,db3\n",
        "\n",
        "def update_params(W1,b1,W2,b2,W3,b3,dW1,db1,dW2,db2,dW3,db3,lr):\n",
        "  W1-=lr*dW1\n",
        "  b1-=lr*db1\n",
        "  W2-=lr*dW2\n",
        "  b2-=lr*db2\n",
        "  W3-=lr*dW3\n",
        "  b3-=lr*db3\n",
        "  return W1,b1,W2,b2,W3,b3\n",
        "\n",
        "\n",
        "def accuracy(X,Y,W1,b1,W2,b2,W3,b3):\n",
        "  _,_,_,_,_,A3=forward(W1,b1,W2,b2,W3,b3,X)\n",
        "  pred=np.argmax(A3,axis=1)\n",
        "  actual=np.argmax(Y,axis=1)\n",
        "  return np.mean(pred==actual)"
      ],
      "metadata": {
        "id": "otZr9ux6hJuu"
      },
      "execution_count": null,
      "outputs": []
    },
    {
      "cell_type": "code",
      "source": [
        "def train(X_train,y_train,x_val,y_val,epochs,batch_size,lr):\n",
        "  W1,b1,W2,b2,W3,b3= initialize_parameters()\n",
        "  n_sample = X_train.shape[0]\n",
        "\n",
        "  for epoch in range(epochs):\n",
        "    perm = np.random.permutation(n_sample)\n",
        "    X_suff,y_suff=X_train[perm],y_train[perm]\n",
        "\n",
        "    for i in range(0,n_sample,batch_size):\n",
        "      X_batch,y_batch=X_suff[i:i+batch_size],y_suff[i:i+batch_size]\n",
        "\n",
        "      Z1,A1,Z2,A2,Z3,Y = forward(W1,b1,W2,b2,W3,b3,X_batch)\n",
        "\n",
        "      dW1,db1,dW2,db2,dW3,db3= backward(X_batch,y_batch,Z1,A1,Z2,A2,Z3,Y,W2,W3)\n",
        "\n",
        "      W1,b1,W2,b2,W3,b3=update_params(W1,b1,W2,b2,W3,b3,dW1,db1,dW2,db2,dW3,db3,lr=0.1)\n",
        "\n",
        "    acc= accuracy(x_val,y_val,W1,b1,W2,b2,W3,b3)\n",
        "    print(f\"{epoch+1}/{epochs}, Validation accuracy: {acc:.4f}\")\n",
        "\n",
        "  return W1,b1,W2,b2,W3,b3"
      ],
      "metadata": {
        "id": "2Ps5mufeL57h"
      },
      "execution_count": null,
      "outputs": []
    },
    {
      "cell_type": "code",
      "source": [
        "print(y_test.shape)"
      ],
      "metadata": {
        "colab": {
          "base_uri": "https://localhost:8080/"
        },
        "id": "w-MtCZihb_IK",
        "outputId": "891b7ec1-dadc-473a-8789-0ccb44aa6f90"
      },
      "execution_count": null,
      "outputs": [
        {
          "output_type": "stream",
          "name": "stdout",
          "text": [
            "(10000, 10)\n"
          ]
        }
      ]
    },
    {
      "cell_type": "code",
      "source": [
        "epochs=10\n",
        "batch_size=64\n",
        "lr=0.1\n",
        "\n",
        "W1,b1,W2,b2,W3,b3 = train(x_train,y_train,x_val,y_val,epochs,batch_size,lr)\n",
        "\n",
        "test_acc= accuracy(x_test,y_test,W1,b1,W2,b2,W3,b3)\n",
        "print(f'Test accuracy:{test_acc:.4f}')"
      ],
      "metadata": {
        "colab": {
          "base_uri": "https://localhost:8080/"
        },
        "id": "lfiONfxhSP4m",
        "outputId": "4d5c8ea6-3524-45fb-a369-ad400c638604"
      },
      "execution_count": null,
      "outputs": [
        {
          "output_type": "stream",
          "name": "stdout",
          "text": [
            "1/10, Validation accuracy: 0.9239\n",
            "2/10, Validation accuracy: 0.9559\n",
            "3/10, Validation accuracy: 0.9595\n",
            "4/10, Validation accuracy: 0.9684\n",
            "5/10, Validation accuracy: 0.9696\n"
          ]
        }
      ]
    },
    {
      "cell_type": "code",
      "source": [],
      "metadata": {
        "id": "5gLovN6G3wMS"
      },
      "execution_count": null,
      "outputs": []
    }
  ]
}